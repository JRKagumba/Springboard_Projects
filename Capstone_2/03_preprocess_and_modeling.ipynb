{
 "cells": [
  {
   "cell_type": "code",
   "execution_count": 40,
   "metadata": {},
   "outputs": [],
   "source": [
    "import numpy as np\n",
    "import pandas as pd\n",
    "import os\n",
    "\n",
    "import pickle\n",
    "import warnings\n",
    "warnings.filterwarnings(\"ignore\")\n",
    "\n",
    "from datetime import datetime"
   ]
  },
  {
   "cell_type": "code",
   "execution_count": 41,
   "metadata": {},
   "outputs": [],
   "source": [
    "PROJ_ROOT = os.path.join(os.pardir)\n",
    "raw_data=os.path.join(PROJ_ROOT, \"data\", \"interim\", \"data_cleaned.csv\")\n",
    "data = pd.read_csv(raw_data, index_col=None, header=0, dtype='string')"
   ]
  },
  {
   "cell_type": "code",
   "execution_count": 42,
   "metadata": {},
   "outputs": [
    {
     "data": {
      "text/html": [
       "<div>\n",
       "<style scoped>\n",
       "    .dataframe tbody tr th:only-of-type {\n",
       "        vertical-align: middle;\n",
       "    }\n",
       "\n",
       "    .dataframe tbody tr th {\n",
       "        vertical-align: top;\n",
       "    }\n",
       "\n",
       "    .dataframe thead th {\n",
       "        text-align: right;\n",
       "    }\n",
       "</style>\n",
       "<table border=\"1\" class=\"dataframe\">\n",
       "  <thead>\n",
       "    <tr style=\"text-align: right;\">\n",
       "      <th></th>\n",
       "      <th>odolbl</th>\n",
       "      <th>Price</th>\n",
       "      <th>Location</th>\n",
       "      <th>Vehicle_Name</th>\n",
       "      <th>Vehicle_Model</th>\n",
       "      <th>Year</th>\n",
       "      <th>Condition</th>\n",
       "    </tr>\n",
       "  </thead>\n",
       "  <tbody>\n",
       "    <tr>\n",
       "      <th>0</th>\n",
       "      <td>48,500.00</td>\n",
       "      <td>23,995.00</td>\n",
       "      <td>Barrie, ON</td>\n",
       "      <td>Kia</td>\n",
       "      <td>Forte</td>\n",
       "      <td>2019</td>\n",
       "      <td>Used</td>\n",
       "    </tr>\n",
       "    <tr>\n",
       "      <th>1</th>\n",
       "      <td>130,000.00</td>\n",
       "      <td>12,995.00</td>\n",
       "      <td>Barrie, ON</td>\n",
       "      <td>Kia</td>\n",
       "      <td>Forte-Koup</td>\n",
       "      <td>2016</td>\n",
       "      <td>Used</td>\n",
       "    </tr>\n",
       "    <tr>\n",
       "      <th>2</th>\n",
       "      <td>37,006.00</td>\n",
       "      <td>32,426.00</td>\n",
       "      <td>Gloucester, ON</td>\n",
       "      <td>Subaru</td>\n",
       "      <td>Crosstrek</td>\n",
       "      <td>2018</td>\n",
       "      <td>Used</td>\n",
       "    </tr>\n",
       "    <tr>\n",
       "      <th>3</th>\n",
       "      <td>67,367.00</td>\n",
       "      <td>42,826.00</td>\n",
       "      <td>Gloucester, ON</td>\n",
       "      <td>Volkswagen</td>\n",
       "      <td>Atlas</td>\n",
       "      <td>2019</td>\n",
       "      <td>Used</td>\n",
       "    </tr>\n",
       "    <tr>\n",
       "      <th>4</th>\n",
       "      <td>65,591.00</td>\n",
       "      <td>23,994.00</td>\n",
       "      <td>Thornhill, ON</td>\n",
       "      <td>Volkswagen</td>\n",
       "      <td>Jetta</td>\n",
       "      <td>2019</td>\n",
       "      <td>Used</td>\n",
       "    </tr>\n",
       "  </tbody>\n",
       "</table>\n",
       "</div>"
      ],
      "text/plain": [
       "      odolbl     Price        Location Vehicle_Name Vehicle_Model  Year  \\\n",
       "0  48,500.00 23,995.00      Barrie, ON          Kia         Forte  2019   \n",
       "1 130,000.00 12,995.00      Barrie, ON          Kia    Forte-Koup  2016   \n",
       "2  37,006.00 32,426.00  Gloucester, ON       Subaru     Crosstrek  2018   \n",
       "3  67,367.00 42,826.00  Gloucester, ON   Volkswagen         Atlas  2019   \n",
       "4  65,591.00 23,994.00   Thornhill, ON   Volkswagen         Jetta  2019   \n",
       "\n",
       "  Condition  \n",
       "0      Used  \n",
       "1      Used  \n",
       "2      Used  \n",
       "3      Used  \n",
       "4      Used  "
      ]
     },
     "execution_count": 42,
     "metadata": {},
     "output_type": "execute_result"
    }
   ],
   "source": [
    "columns_for_analysis=['odolbl','Price',\t'Location',\t'Vehicle_Name',\t'Vehicle_Model','Year','Condition']\n",
    "data[\"Price\"] = pd.to_numeric(data[\"Price\"], downcast=\"float\")\n",
    "data[\"odolbl\"] = pd.to_numeric(data[\"odolbl\"], downcast=\"float\")\n",
    "data[\"Year\"] = pd.to_numeric(data[\"Year\"], downcast=\"integer\")\n",
    "df=data[columns_for_analysis]\n",
    "df.head(5)"
   ]
  },
  {
   "cell_type": "code",
   "execution_count": 43,
   "metadata": {},
   "outputs": [],
   "source": [
    "df['Location']=df['Location'].str.replace(\", ON\",\"\")"
   ]
  },
  {
   "cell_type": "code",
   "execution_count": 44,
   "metadata": {},
   "outputs": [
    {
     "data": {
      "text/plain": [
       "odolbl           float32\n",
       "Price            float32\n",
       "Location          string\n",
       "Vehicle_Name      string\n",
       "Vehicle_Model     string\n",
       "Year               int16\n",
       "Condition         string\n",
       "dtype: object"
      ]
     },
     "execution_count": 44,
     "metadata": {},
     "output_type": "execute_result"
    }
   ],
   "source": [
    "df.dtypes"
   ]
  },
  {
   "cell_type": "code",
   "execution_count": 45,
   "metadata": {},
   "outputs": [],
   "source": [
    "string_features= df.select_dtypes(include='string')\n",
    "numeric_features= df.select_dtypes(exclude='string')\n",
    "\n",
    "\n",
    "df=pd.concat([string_features,numeric_features], axis=1)"
   ]
  },
  {
   "cell_type": "code",
   "execution_count": 46,
   "metadata": {},
   "outputs": [],
   "source": [
    "# shift column 'Price' to last position\n",
    "last_column = df.pop('Price')\n",
    "df['Price']=last_column"
   ]
  },
  {
   "cell_type": "code",
   "execution_count": 47,
   "metadata": {},
   "outputs": [],
   "source": [
    "df=df.drop(['Location'], axis=1)"
   ]
  },
  {
   "cell_type": "code",
   "execution_count": 48,
   "metadata": {},
   "outputs": [],
   "source": [
    "save_path=os.path.join(PROJ_ROOT, \"data\", \"processed\", \"data_for_model.csv\")\n",
    "df.to_csv(save_path,index=False)"
   ]
  },
  {
   "cell_type": "code",
   "execution_count": 49,
   "metadata": {},
   "outputs": [
    {
     "name": "stdout",
     "output_type": "stream",
     "text": [
      "Length of dataframe before taking a random sample = 139101\n",
      "Length of dataframe after taking a random sample = 139101\n"
     ]
    },
    {
     "data": {
      "text/html": [
       "<div>\n",
       "<style scoped>\n",
       "    .dataframe tbody tr th:only-of-type {\n",
       "        vertical-align: middle;\n",
       "    }\n",
       "\n",
       "    .dataframe tbody tr th {\n",
       "        vertical-align: top;\n",
       "    }\n",
       "\n",
       "    .dataframe thead th {\n",
       "        text-align: right;\n",
       "    }\n",
       "</style>\n",
       "<table border=\"1\" class=\"dataframe\">\n",
       "  <thead>\n",
       "    <tr style=\"text-align: right;\">\n",
       "      <th></th>\n",
       "      <th>Vehicle_Name</th>\n",
       "      <th>Vehicle_Model</th>\n",
       "      <th>Condition</th>\n",
       "      <th>odolbl</th>\n",
       "      <th>Year</th>\n",
       "      <th>Price</th>\n",
       "    </tr>\n",
       "  </thead>\n",
       "  <tbody>\n",
       "    <tr>\n",
       "      <th>130144</th>\n",
       "      <td>Toyota</td>\n",
       "      <td>Tacoma</td>\n",
       "      <td>Used</td>\n",
       "      <td>94,754.00</td>\n",
       "      <td>2016</td>\n",
       "      <td>36,998.00</td>\n",
       "    </tr>\n",
       "    <tr>\n",
       "      <th>96003</th>\n",
       "      <td>Chevrolet</td>\n",
       "      <td>Silverado-1500</td>\n",
       "      <td>Used</td>\n",
       "      <td>22,848.00</td>\n",
       "      <td>2021</td>\n",
       "      <td>74,990.00</td>\n",
       "    </tr>\n",
       "    <tr>\n",
       "      <th>13122</th>\n",
       "      <td>Honda</td>\n",
       "      <td>Accord-Sedan</td>\n",
       "      <td>Used</td>\n",
       "      <td>50,025.00</td>\n",
       "      <td>2018</td>\n",
       "      <td>29,990.00</td>\n",
       "    </tr>\n",
       "  </tbody>\n",
       "</table>\n",
       "</div>"
      ],
      "text/plain": [
       "       Vehicle_Name   Vehicle_Model Condition    odolbl  Year     Price\n",
       "130144       Toyota          Tacoma      Used 94,754.00  2016 36,998.00\n",
       "96003     Chevrolet  Silverado-1500      Used 22,848.00  2021 74,990.00\n",
       "13122         Honda    Accord-Sedan      Used 50,025.00  2018 29,990.00"
      ]
     },
     "execution_count": 49,
     "metadata": {},
     "output_type": "execute_result"
    }
   ],
   "source": [
    "print(f'Length of dataframe before taking a random sample = {len(df)}')\n",
    "df_sample=df.sample(frac=1.0, random_state=101)\n",
    "print(f'Length of dataframe after taking a random sample = {len(df_sample)}')\n",
    "df_sample.head(3)"
   ]
  },
  {
   "cell_type": "code",
   "execution_count": 50,
   "metadata": {},
   "outputs": [],
   "source": [
    "X = df_sample.iloc[:, :-1].values\n",
    "y = df_sample.iloc[:, -1].values"
   ]
  },
  {
   "cell_type": "code",
   "execution_count": 51,
   "metadata": {},
   "outputs": [],
   "source": [
    "from sklearn.compose import ColumnTransformer\n",
    "from sklearn.preprocessing import OneHotEncoder\n",
    "ct = ColumnTransformer(transformers=[('encoder', OneHotEncoder(), [0,1,2])], remainder='passthrough')\n",
    "\n",
    "ct.fit(X)\n",
    "\n",
    "\n",
    "with open(\"final_encoder.pkl\", 'wb') as file:  \n",
    "    pickle.dump(ct, file)\n",
    "\n",
    "X = ct.fit_transform(X).toarray()"
   ]
  },
  {
   "cell_type": "code",
   "execution_count": 52,
   "metadata": {},
   "outputs": [],
   "source": [
    "from sklearn.metrics import mean_squared_error\n",
    "from sklearn.model_selection import train_test_split\n",
    "X_train, X_other, y_train, y_other = train_test_split(X, y, test_size = 0.3, random_state = 101)"
   ]
  },
  {
   "cell_type": "code",
   "execution_count": 53,
   "metadata": {},
   "outputs": [],
   "source": [
    "# test_size = 0.5(50% of 30% other -----> test = 15% of all data)\n",
    "X_val, X_test, y_val, y_test = train_test_split(X_other, y_other, test_size = 0.3, random_state = 101)"
   ]
  },
  {
   "cell_type": "code",
   "execution_count": 54,
   "metadata": {},
   "outputs": [],
   "source": [
    "#Feature Scaling...attempt\n",
    "# from sklearn.preprocessing import MinMaxScaler\n",
    "from sklearn.preprocessing import StandardScaler\n",
    "\n",
    "sc_X = StandardScaler(with_mean=False)\n",
    "sc_X.fit(X_train[:,-2:])\n",
    "\n",
    "with open(\"final_scaler.pkl\", 'wb') as file:  \n",
    "    pickle.dump(sc_X, file)\n",
    "\n",
    "X_train[:,-2:]=sc_X.transform(X_train[:,-2:])\n",
    "X_val[:,-2:]=sc_X.transform(X_val[:,-2:])\n",
    "X_test[:,-2:]=sc_X.transform(X_test[:,-2:])\n"
   ]
  },
  {
   "cell_type": "code",
   "execution_count": 16,
   "metadata": {},
   "outputs": [],
   "source": [
    "# from sklearn.model_selection import cross_val_score\n",
    "from sklearn.model_selection import cross_validate\n",
    "from sklearn.metrics import r2_score, mean_absolute_error\n",
    "\n",
    "\n",
    "\n",
    "#function for models\n",
    "\n",
    "name = []\n",
    "r_squared = []\n",
    "r_squared_std_dev=[]\n",
    "\n",
    "mae=[]\n",
    "mae_std_dev=[]\n",
    "\n",
    "time=[]\n",
    "\n",
    "def model_evaluation(model,Name):\n",
    "    cycle_start = datetime.now()\n",
    "    model_instance = model()\n",
    "    model_instance.fit(X_train,y_train)\n",
    "    y_val = model_instance.predict(X_val)\n",
    "    \n",
    "    scores = cross_validate(estimator = model_instance, X = X_val, y =  y_val, cv = 12, \n",
    "                            scoring=['r2','neg_mean_absolute_error'])\n",
    "\n",
    "    cycle_end = datetime.now()\n",
    "    cycle_duration=cycle_end - cycle_start\n",
    "\n",
    "    mins, secs = divmod(cycle_duration.total_seconds(), 60)\n",
    "    hrs, mins = divmod(mins, 60)\n",
    "    duration=f'{hrs:.2f}:{mins:.2f}:{secs:.2f}'\n",
    "\n",
    "\n",
    "    name.append(Name)\n",
    "    time.append(duration)\n",
    "\n",
    "    r_squared_mean=scores['test_r2'].mean()\n",
    "    r_squared_std=scores['test_r2'].std()\n",
    "    r_squared.append(r_squared_mean)\n",
    "    r_squared_std_dev.append(r_squared_std)\n",
    "\n",
    "    mae_mean=scores['test_neg_mean_absolute_error'].mean()\n",
    "    mae_std=scores['test_neg_mean_absolute_error'].std()\n",
    "    mae.append(mae_mean)\n",
    "    mae_std_dev.append(mae_std)\n",
    "\n",
    "    print(f'RMSE = {r_squared_mean*100:.2f}%')\n",
    "    print(f'RMSE_std = {r_squared_std*100:.2f}')\n",
    "    print()\n",
    "    print(f'MAE = {abs(mae_mean):.2f}')\n",
    "    print(f'MAE_std = {mae_std*100:.2f}')\n",
    "    print()\n",
    "    print(f'Cycle Time = {cycle_duration}')\n",
    "\n",
    "    return model_instance\n",
    "    "
   ]
  },
  {
   "cell_type": "code",
   "execution_count": 17,
   "metadata": {},
   "outputs": [
    {
     "name": "stdout",
     "output_type": "stream",
     "text": [
      "RMSE = 87.77%\n",
      "RMSE_std = 0.44\n",
      "\n",
      "MAE = 4272.89\n",
      "MAE_std = 5011.15\n",
      "\n",
      "Cycle Time = 1:13:07.315497\n"
     ]
    }
   ],
   "source": [
    "from xgboost import XGBRegressor\n",
    "XGB_model = model_evaluation(XGBRegressor,'XGBRegressor')"
   ]
  },
  {
   "cell_type": "code",
   "execution_count": 18,
   "metadata": {},
   "outputs": [
    {
     "name": "stdout",
     "output_type": "stream",
     "text": [
      "RMSE = 93.45%\n",
      "RMSE_std = 0.34\n",
      "\n",
      "MAE = 2566.44\n",
      "MAE_std = 3564.29\n",
      "\n",
      "Cycle Time = 16:26:34.463182\n"
     ]
    }
   ],
   "source": [
    "from sklearn.ensemble import RandomForestRegressor\n",
    "RandForest_model = model_evaluation(RandomForestRegressor,'RandomForestRegressor')"
   ]
  },
  {
   "cell_type": "code",
   "execution_count": 19,
   "metadata": {},
   "outputs": [
    {
     "data": {
      "text/html": [
       "<div>\n",
       "<style scoped>\n",
       "    .dataframe tbody tr th:only-of-type {\n",
       "        vertical-align: middle;\n",
       "    }\n",
       "\n",
       "    .dataframe tbody tr th {\n",
       "        vertical-align: top;\n",
       "    }\n",
       "\n",
       "    .dataframe thead th {\n",
       "        text-align: right;\n",
       "    }\n",
       "</style>\n",
       "<table border=\"1\" class=\"dataframe\">\n",
       "  <thead>\n",
       "    <tr style=\"text-align: right;\">\n",
       "      <th></th>\n",
       "      <th>Model</th>\n",
       "      <th>Time</th>\n",
       "      <th>RMSE_mean</th>\n",
       "      <th>RMSE_std</th>\n",
       "      <th>MAE_mean</th>\n",
       "      <th>MAE_std</th>\n",
       "    </tr>\n",
       "  </thead>\n",
       "  <tbody>\n",
       "    <tr>\n",
       "      <th>1</th>\n",
       "      <td>RandomForestRegressor</td>\n",
       "      <td>16.00:26.00:34.46</td>\n",
       "      <td>0.93</td>\n",
       "      <td>0.00</td>\n",
       "      <td>-2,566.44</td>\n",
       "      <td>35.64</td>\n",
       "    </tr>\n",
       "    <tr>\n",
       "      <th>0</th>\n",
       "      <td>XGBRegressor</td>\n",
       "      <td>1.00:13.00:7.32</td>\n",
       "      <td>0.88</td>\n",
       "      <td>0.00</td>\n",
       "      <td>-4,272.89</td>\n",
       "      <td>50.11</td>\n",
       "    </tr>\n",
       "  </tbody>\n",
       "</table>\n",
       "</div>"
      ],
      "text/plain": [
       "                   Model               Time RMSE_mean RMSE_std  MAE_mean  \\\n",
       "1  RandomForestRegressor  16.00:26.00:34.46      0.93     0.00 -2,566.44   \n",
       "0           XGBRegressor    1.00:13.00:7.32      0.88     0.00 -4,272.89   \n",
       "\n",
       "  MAE_std  \n",
       "1   35.64  \n",
       "0   50.11  "
      ]
     },
     "execution_count": 19,
     "metadata": {},
     "output_type": "execute_result"
    }
   ],
   "source": [
    "pd.options.display.float_format = \"{:,.2f}\".format\n",
    "df_results = pd.DataFrame([name,time,r_squared,r_squared_std_dev,mae,mae_std_dev])\n",
    "df_results = df_results.transpose()\n",
    "df_results = df_results.rename(columns={0:'Model',1:'Time',2:'RMSE_mean',3:'RMSE_std',4:'MAE_mean',5:'MAE_std'}).sort_values(by='RMSE_mean',ascending=False)\n",
    "df_results"
   ]
  },
  {
   "cell_type": "markdown",
   "metadata": {},
   "source": [
    "# Final Performance Metrics"
   ]
  },
  {
   "cell_type": "code",
   "execution_count": 20,
   "metadata": {},
   "outputs": [
    {
     "name": "stdout",
     "output_type": "stream",
     "text": [
      "Test score: 87.72 %\n"
     ]
    }
   ],
   "source": [
    "score = XGB_model.score(X_test, y_test)  \n",
    "# Print the Score\n",
    "print(\"Test score: {0:.2f} %\".format(100 * score))  \n",
    "\n",
    "# Predict the Labels using the reloaded Model\n",
    "Ypredict = XGB_model.predict(X_test)  "
   ]
  },
  {
   "cell_type": "code",
   "execution_count": 21,
   "metadata": {},
   "outputs": [
    {
     "name": "stdout",
     "output_type": "stream",
     "text": [
      "Test score: 93.82 %\n"
     ]
    }
   ],
   "source": [
    "score = RandForest_model.score(X_test, y_test)  \n",
    "# Print the Score\n",
    "print(\"Test score: {0:.2f} %\".format(100 * score))  \n",
    "\n",
    "# Predict the Labels using the reloaded Model\n",
    "Ypredict = RandForest_model.predict(X_test)  \n"
   ]
  },
  {
   "cell_type": "code",
   "execution_count": 22,
   "metadata": {},
   "outputs": [
    {
     "name": "stdout",
     "output_type": "stream",
     "text": [
      "RMSE = 87.77%\n",
      "RMSE_std = 0.44\n",
      "\n",
      "MAE = 4272.89\n",
      "MAE_std = 5011.15\n",
      "\n",
      "Cycle Time = 1:02:38.193431\n",
      "RMSE = 93.45%\n",
      "RMSE_std = 0.35\n",
      "\n",
      "MAE = 2564.42\n",
      "MAE_std = 3761.64\n",
      "\n",
      "Cycle Time = 19:01:01.325158\n"
     ]
    },
    {
     "data": {
      "text/plain": [
       "RandomForestRegressor()"
      ]
     },
     "execution_count": 22,
     "metadata": {},
     "output_type": "execute_result"
    }
   ],
   "source": [
    "final_XGB_model=model_evaluation(XGBRegressor,'XGBRegressor')\n",
    "final_RandForest_model = model_evaluation(RandomForestRegressor,'RandomForestRegressor')\n",
    "\n",
    "\n",
    "final_XGB_model.fit(X,y)\n",
    "final_RandForest_model.fit(X,y)"
   ]
  },
  {
   "cell_type": "code",
   "execution_count": 23,
   "metadata": {},
   "outputs": [],
   "source": [
    "XGB_model_path=os.path.join(PROJ_ROOT, \"models\", \"final_XGB_model.pkl\")\n",
    "RandForest_model_path=os.path.join(PROJ_ROOT, \"models\", \"final_RandForest_model.pkl\")\n",
    "\n",
    "with open(XGB_model_path, 'wb') as file:  \n",
    "    pickle.dump(XGB_model, file)\n",
    "\n",
    "with open(RandForest_model_path, 'wb') as file:  \n",
    "    pickle.dump(RandForest_model, file)"
   ]
  },
  {
   "cell_type": "code",
   "execution_count": 39,
   "metadata": {},
   "outputs": [],
   "source": [
    "final_XGB_model.save_model(\"final_XGB_model.json\")"
   ]
  },
  {
   "cell_type": "code",
   "execution_count": null,
   "metadata": {},
   "outputs": [],
   "source": []
  }
 ],
 "metadata": {
  "interpreter": {
   "hash": "0b8698a5bd4819ae19e9a18b6d955fc6bd055faf97a5c64d19ec0fe161ad6015"
  },
  "kernelspec": {
   "display_name": "Python 3.9.7 ('Ontario_Vehicle_Analysis')",
   "language": "python",
   "name": "python3"
  },
  "language_info": {
   "codemirror_mode": {
    "name": "ipython",
    "version": 3
   },
   "file_extension": ".py",
   "mimetype": "text/x-python",
   "name": "python",
   "nbconvert_exporter": "python",
   "pygments_lexer": "ipython3",
   "version": "3.9.7"
  },
  "orig_nbformat": 4
 },
 "nbformat": 4,
 "nbformat_minor": 2
}
